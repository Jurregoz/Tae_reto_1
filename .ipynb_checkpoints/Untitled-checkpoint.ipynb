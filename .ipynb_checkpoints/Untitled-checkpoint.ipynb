{
 "cells": [
  {
   "cell_type": "markdown",
   "id": "aa36c407",
   "metadata": {},
   "source": [
    "## Análisis Descriptivo\n",
    "\n",
    "Vamos a leer los datos recopilados a través de un DataFrame de Pandasantes de comenzar"
   ]
  },
  {
   "cell_type": "code",
   "execution_count": 127,
   "id": "44d6041d",
   "metadata": {
    "scrolled": true
   },
   "outputs": [
    {
     "data": {
      "text/html": [
       "<div>\n",
       "<style scoped>\n",
       "    .dataframe tbody tr th:only-of-type {\n",
       "        vertical-align: middle;\n",
       "    }\n",
       "\n",
       "    .dataframe tbody tr th {\n",
       "        vertical-align: top;\n",
       "    }\n",
       "\n",
       "    .dataframe thead th {\n",
       "        text-align: right;\n",
       "    }\n",
       "</style>\n",
       "<table border=\"1\" class=\"dataframe\">\n",
       "  <thead>\n",
       "    <tr style=\"text-align: right;\">\n",
       "      <th></th>\n",
       "      <th>Nombre</th>\n",
       "      <th>sexo</th>\n",
       "      <th>Programa</th>\n",
       "      <th>semestre matriculado</th>\n",
       "      <th>Pasatiempo</th>\n",
       "      <th>Sueño</th>\n",
       "      <th>None</th>\n",
       "    </tr>\n",
       "  </thead>\n",
       "  <tbody>\n",
       "    <tr>\n",
       "      <th>0</th>\n",
       "      <td>johan cano</td>\n",
       "      <td>h</td>\n",
       "      <td>ing de sistemas</td>\n",
       "      <td>10</td>\n",
       "      <td>video juegos</td>\n",
       "      <td>trabajar en ciencia de datos/inteligencia arti...</td>\n",
       "      <td>NaN</td>\n",
       "    </tr>\n",
       "    <tr>\n",
       "      <th>1</th>\n",
       "      <td>Andrés Camilo García Moreno</td>\n",
       "      <td>h</td>\n",
       "      <td>Ingenieria de Sistemas e Informatica</td>\n",
       "      <td>9</td>\n",
       "      <td>Jugar Videojuegos</td>\n",
       "      <td>Ganar lo suficiente para tener una vida comoda</td>\n",
       "      <td>NaN</td>\n",
       "    </tr>\n",
       "    <tr>\n",
       "      <th>2</th>\n",
       "      <td>Juan Felipe Usuga Villegas</td>\n",
       "      <td>h</td>\n",
       "      <td>Ingeniería sistemas</td>\n",
       "      <td>11</td>\n",
       "      <td>Videojuegos y motociclismo</td>\n",
       "      <td>Ingeniería de software</td>\n",
       "      <td>NaN</td>\n",
       "    </tr>\n",
       "    <tr>\n",
       "      <th>3</th>\n",
       "      <td>Antonio Pabon Palacio</td>\n",
       "      <td>h</td>\n",
       "      <td>Estadística</td>\n",
       "      <td>10mo semestre</td>\n",
       "      <td>Mi pasatiempo son los deportes</td>\n",
       "      <td>Analista de datos deportivos</td>\n",
       "      <td>NaN</td>\n",
       "    </tr>\n",
       "    <tr>\n",
       "      <th>4</th>\n",
       "      <td>Emilio Porras</td>\n",
       "      <td>h</td>\n",
       "      <td>Ing. de Sistemas</td>\n",
       "      <td>7mo semestre</td>\n",
       "      <td>Piano</td>\n",
       "      <td>Me gustaría desarrollar software en Java</td>\n",
       "      <td>NaN</td>\n",
       "    </tr>\n",
       "  </tbody>\n",
       "</table>\n",
       "</div>"
      ],
      "text/plain": [
       "                        Nombre sexo                               Programa  \\\n",
       "0                   johan cano    h                        ing de sistemas   \n",
       "1  Andrés Camilo García Moreno    h  Ingenieria de Sistemas e Informatica    \n",
       "2   Juan Felipe Usuga Villegas    h                    Ingeniería sistemas   \n",
       "3       Antonio Pabon Palacio     h                           Estadística    \n",
       "4               Emilio Porras     h                      Ing. de Sistemas    \n",
       "\n",
       "  semestre matriculado                        Pasatiempo  \\\n",
       "0                   10                      video juegos   \n",
       "1                   9                 Jugar Videojuegos    \n",
       "2                   11        Videojuegos y motociclismo   \n",
       "3       10mo semestre    Mi pasatiempo son los deportes    \n",
       "4        7mo semestre                             Piano    \n",
       "\n",
       "                                               Sueño None  \n",
       "0  trabajar en ciencia de datos/inteligencia arti...  NaN  \n",
       "1     Ganar lo suficiente para tener una vida comoda  NaN  \n",
       "2                             Ingeniería de software  NaN  \n",
       "3                       Analista de datos deportivos  NaN  \n",
       "4           Me gustaría desarrollar software en Java  NaN  "
      ]
     },
     "execution_count": 127,
     "metadata": {},
     "output_type": "execute_result"
    }
   ],
   "source": [
    "import pandas as pd\n",
    "import csv\n",
    "import matplotlib.pyplot as plt\n",
    "import seaborn as sns\n",
    "\n",
    "with open('compañeros.csv') as compañeros_csv:\n",
    "    compañeros_reader = csv.DictReader(compañeros_csv, delimiter='|')\n",
    "    compañeros = pd.DataFrame(compañeros_reader)\n",
    "compañeros.head()"
   ]
  },
  {
   "cell_type": "markdown",
   "id": "8dafc3e8",
   "metadata": {},
   "source": [
    "Vemos que la columna **None** no aporta ninguna información nueva. Vamos a eliminarla y a modificar ligeramente el nombre de la columna semestr matriculado"
   ]
  },
  {
   "cell_type": "code",
   "execution_count": 128,
   "id": "e9dd11e6",
   "metadata": {
    "scrolled": true
   },
   "outputs": [
    {
     "data": {
      "text/html": [
       "<div>\n",
       "<style scoped>\n",
       "    .dataframe tbody tr th:only-of-type {\n",
       "        vertical-align: middle;\n",
       "    }\n",
       "\n",
       "    .dataframe tbody tr th {\n",
       "        vertical-align: top;\n",
       "    }\n",
       "\n",
       "    .dataframe thead th {\n",
       "        text-align: right;\n",
       "    }\n",
       "</style>\n",
       "<table border=\"1\" class=\"dataframe\">\n",
       "  <thead>\n",
       "    <tr style=\"text-align: right;\">\n",
       "      <th></th>\n",
       "      <th>Nombre</th>\n",
       "      <th>sexo</th>\n",
       "      <th>Programa</th>\n",
       "      <th>Semestre_matriculado</th>\n",
       "      <th>Pasatiempo</th>\n",
       "      <th>Sueño</th>\n",
       "    </tr>\n",
       "  </thead>\n",
       "  <tbody>\n",
       "    <tr>\n",
       "      <th>0</th>\n",
       "      <td>johan cano</td>\n",
       "      <td>h</td>\n",
       "      <td>ing de sistemas</td>\n",
       "      <td>10</td>\n",
       "      <td>video juegos</td>\n",
       "      <td>trabajar en ciencia de datos/inteligencia arti...</td>\n",
       "    </tr>\n",
       "    <tr>\n",
       "      <th>1</th>\n",
       "      <td>Andrés Camilo García Moreno</td>\n",
       "      <td>h</td>\n",
       "      <td>Ingenieria de Sistemas e Informatica</td>\n",
       "      <td>9</td>\n",
       "      <td>Jugar Videojuegos</td>\n",
       "      <td>Ganar lo suficiente para tener una vida comoda</td>\n",
       "    </tr>\n",
       "    <tr>\n",
       "      <th>2</th>\n",
       "      <td>Juan Felipe Usuga Villegas</td>\n",
       "      <td>h</td>\n",
       "      <td>Ingeniería sistemas</td>\n",
       "      <td>11</td>\n",
       "      <td>Videojuegos y motociclismo</td>\n",
       "      <td>Ingeniería de software</td>\n",
       "    </tr>\n",
       "    <tr>\n",
       "      <th>3</th>\n",
       "      <td>Antonio Pabon Palacio</td>\n",
       "      <td>h</td>\n",
       "      <td>Estadística</td>\n",
       "      <td>10mo semestre</td>\n",
       "      <td>Mi pasatiempo son los deportes</td>\n",
       "      <td>Analista de datos deportivos</td>\n",
       "    </tr>\n",
       "    <tr>\n",
       "      <th>4</th>\n",
       "      <td>Emilio Porras</td>\n",
       "      <td>h</td>\n",
       "      <td>Ing. de Sistemas</td>\n",
       "      <td>7mo semestre</td>\n",
       "      <td>Piano</td>\n",
       "      <td>Me gustaría desarrollar software en Java</td>\n",
       "    </tr>\n",
       "  </tbody>\n",
       "</table>\n",
       "</div>"
      ],
      "text/plain": [
       "                        Nombre sexo                               Programa  \\\n",
       "0                   johan cano    h                        ing de sistemas   \n",
       "1  Andrés Camilo García Moreno    h  Ingenieria de Sistemas e Informatica    \n",
       "2   Juan Felipe Usuga Villegas    h                    Ingeniería sistemas   \n",
       "3       Antonio Pabon Palacio     h                           Estadística    \n",
       "4               Emilio Porras     h                      Ing. de Sistemas    \n",
       "\n",
       "  Semestre_matriculado                        Pasatiempo  \\\n",
       "0                   10                      video juegos   \n",
       "1                   9                 Jugar Videojuegos    \n",
       "2                   11        Videojuegos y motociclismo   \n",
       "3       10mo semestre    Mi pasatiempo son los deportes    \n",
       "4        7mo semestre                             Piano    \n",
       "\n",
       "                                               Sueño  \n",
       "0  trabajar en ciencia de datos/inteligencia arti...  \n",
       "1     Ganar lo suficiente para tener una vida comoda  \n",
       "2                             Ingeniería de software  \n",
       "3                       Analista de datos deportivos  \n",
       "4           Me gustaría desarrollar software en Java  "
      ]
     },
     "execution_count": 128,
     "metadata": {},
     "output_type": "execute_result"
    }
   ],
   "source": [
    "compañeros.dropna(axis=1, how='any', inplace=True)\n",
    "compañeros.rename(columns={'semestre matriculado': 'Semestre_matriculado'}, inplace=True)\n",
    "compañeros.head()\n"
   ]
  },
  {
   "cell_type": "markdown",
   "id": "0f752759",
   "metadata": {},
   "source": [
    "Dos preguntas naturales que podemos hacernos son las proporciones entre sexo, programa y semestre matriculado. Para las últimas dos debemos hacer un proceso de limpieza para darles cierta uniformidad a los datos"
   ]
  },
  {
   "cell_type": "code",
   "execution_count": 129,
   "id": "0b922db7",
   "metadata": {},
   "outputs": [
    {
     "data": {
      "text/plain": [
       "array(['ing de sistemas', 'Ingenieria de Sistemas e Informatica ',\n",
       "       'Ingeniería sistemas', ' Estadística ', ' Ing. de Sistemas ',\n",
       "       ' Ingeniería de sistemas ', ' Ing. Sistemas ',\n",
       "       'Ingeniería de sistemas', 'Estadística', ' ing de sistemas ',\n",
       "       'Estadistica', 'Ing. Sistemas',\n",
       "       ' espero este semestre me aprueben el traslado de programa curricular a estadistica ',\n",
       "       'Ingeniería de Sistemas e Informática',\n",
       "       ' Ingeniería de sistemas y Ciencias de la computación ',\n",
       "       ' estadística ', 'estudio estadística', 'estadística',\n",
       "       ' Ingenieria de sistemas',\n",
       "       ' Ingeniería de sistemas e informática ',\n",
       "       ' ingeniería de sistemas',\n",
       "       ' Ingeniería de sistemas y Estadistica ', ' estadística',\n",
       "       'Ingenieria de Sistemas', 'Ingeniería de sistemas e informática',\n",
       "       ' ingeniería de sistemas ', ' Estadística'], dtype=object)"
      ]
     },
     "execution_count": 129,
     "metadata": {},
     "output_type": "execute_result"
    }
   ],
   "source": [
    "compañeros.Programa.unique()"
   ]
  },
  {
   "cell_type": "code",
   "execution_count": 130,
   "id": "a7a90dc9",
   "metadata": {},
   "outputs": [
    {
     "data": {
      "text/plain": [
       "array(['Ing. Sistemas', 'Estadística'], dtype=object)"
      ]
     },
     "execution_count": 130,
     "metadata": {},
     "output_type": "execute_result"
    }
   ],
   "source": [
    "compañeros = compañeros.replace('.*[Ss]istemas.*', 'Ing. Sistemas', regex=True)\n",
    "compañeros = compañeros.replace('.*[Ee]stad[íi]stica.*', 'Estadística', regex=True)\n",
    "\n",
    "compañeros.Programa.unique()"
   ]
  },
  {
   "cell_type": "code",
   "execution_count": 131,
   "id": "1338e43e",
   "metadata": {},
   "outputs": [
    {
     "data": {
      "text/plain": [
       "array(['10', ' 9 ', '11', ' 10mo semestre ', ' 7mo semestre ',\n",
       "       ' Octavo Semestre ', ' 9na Matricula ', '7', ' Semestre 9 ',\n",
       "       ' 10 ', ' 7 semestre ', ' 6ta matricula ', 'Matrícula 9 (73,3%)',\n",
       "       ' Semestre 7 ', ' 6 ', 'es mi cuarta matricula', '8',\n",
       "       ' 10 matricula ', ' 9', ' Semestre 10 ', 'Séptimo semestre',\n",
       "       ' séptimo semestre ', '6', '7 semestre', '9', ' octavo semestre',\n",
       "       ' 9mo semestre ', ' 8vo semestre', '8vo semestre',\n",
       "       ' tercer semestre '], dtype=object)"
      ]
     },
     "execution_count": 131,
     "metadata": {},
     "output_type": "execute_result"
    }
   ],
   "source": [
    "compañeros.Semestre_matriculado.unique()"
   ]
  },
  {
   "cell_type": "code",
   "execution_count": 132,
   "id": "3eeb7d79",
   "metadata": {},
   "outputs": [
    {
     "data": {
      "text/plain": [
       "array(['1', '9', '7', 8, '6', '3', 4, '8', 7, 3], dtype=object)"
      ]
     },
     "execution_count": 132,
     "metadata": {},
     "output_type": "execute_result"
    }
   ],
   "source": [
    "patterns = [('.*'+str(semestre) + '.*', str(semestre)) for semestre in range(1, 11)]\n",
    "\n",
    "\n",
    "for pattern in patterns:\n",
    "    compañeros.Semestre_matriculado = compañeros.Semestre_matriculado.replace(pattern[0], pattern[1], regex=True)\n",
    "    \n",
    "compañeros.Semestre_matriculado = compañeros.Semestre_matriculado.replace('.*[Oo]ctavo [sS]emestre.*', 8, regex=True)\n",
    "compañeros.Semestre_matriculado = compañeros.Semestre_matriculado.replace('.*[Ss]éptimo semestre.*', 7, regex=True)\n",
    "compañeros.Semestre_matriculado = compañeros.Semestre_matriculado.replace('.*tercer [Ss]emestre.*', 3, regex=True)\n",
    "compañeros.Semestre_matriculado = compañeros.Semestre_matriculado.replace('.*es mi cuarta matricula.*', 4, regex=True)\n",
    "\n",
    "\n",
    "\n",
    "\n",
    "compañeros.Semestre_matriculado.unique()"
   ]
  },
  {
   "cell_type": "markdown",
   "id": "990cd2de",
   "metadata": {},
   "source": [
    "Ahora que nuestros datos están limpios podemos empezar a hacer un análisis de los datos. Veamos algunas estadísticas básicas\n",
    "    "
   ]
  },
  {
   "cell_type": "code",
   "execution_count": 133,
   "id": "90e70c96",
   "metadata": {},
   "outputs": [
    {
     "data": {
      "text/plain": [
       "h    30\n",
       "m     6\n",
       "Name: sexo, dtype: int64"
      ]
     },
     "execution_count": 133,
     "metadata": {},
     "output_type": "execute_result"
    }
   ],
   "source": [
    "compañeros.sexo.value_counts()"
   ]
  },
  {
   "cell_type": "markdown",
   "id": "75d5ffb9",
   "metadata": {},
   "source": [
    "Visualicemos la proporción de cada sexo en el conjunto de datos completo"
   ]
  },
  {
   "cell_type": "code",
   "execution_count": 134,
   "id": "818ed48e",
   "metadata": {},
   "outputs": [
    {
     "data": {
      "text/plain": [
       "h    83.333333\n",
       "m    16.666667\n",
       "Name: sexo, dtype: float64"
      ]
     },
     "execution_count": 134,
     "metadata": {},
     "output_type": "execute_result"
    }
   ],
   "source": [
    "compañeros.sexo.value_counts(normalize=True)*100"
   ]
  },
  {
   "cell_type": "code",
   "execution_count": 135,
   "id": "34fc7e57",
   "metadata": {},
   "outputs": [
    {
     "data": {
      "image/png": "[encoded data removed]",
      "text/plain": [
       "<Figure size 432x288 with 1 Axes>"
      ]
     },
     "metadata": {},
     "output_type": "display_data"
    }
   ],
   "source": [
    "plt.pie(compañeros.sexo.value_counts(), labels=['Hombre', 'Mujer'], autopct='%0.1f%%')\n",
    "plt.show()"
   ]
  },
  {
   "cell_type": "markdown",
   "id": "bc7110f2",
   "metadata": {},
   "source": [
    "Vemos que la cantidad ee hombres es ampliamente superior y la diferencia entre ambas proporciones nos lo confirma. Podemos hacer un análisis similar con el programa que tienen matriculado."
   ]
  },
  {
   "cell_type": "code",
   "execution_count": 137,
   "id": "e8f7107b",
   "metadata": {},
   "outputs": [
    {
     "data": {
      "text/plain": [
       "Ing. Sistemas    26\n",
       "Estadística      10\n",
       "Name: Programa, dtype: int64"
      ]
     },
     "execution_count": 137,
     "metadata": {},
     "output_type": "execute_result"
    }
   ],
   "source": [
    "compañeros.Programa.value_counts()"
   ]
  },
  {
   "cell_type": "code",
   "execution_count": 138,
   "id": "b3c398e8",
   "metadata": {},
   "outputs": [
    {
     "data": {
      "text/plain": [
       "Ing. Sistemas    0.722222\n",
       "Estadística      0.277778\n",
       "Name: Programa, dtype: float64"
      ]
     },
     "execution_count": 138,
     "metadata": {},
     "output_type": "execute_result"
    }
   ],
   "source": [
    "compañeros.Programa.value_counts(normalize=True)"
   ]
  },
  {
   "cell_type": "code",
   "execution_count": 140,
   "id": "ef4d6ffb",
   "metadata": {},
   "outputs": [
    {
     "data": {
      "image/png": "[encoded data removed]",
      "text/plain": [
       "<Figure size 432x288 with 1 Axes>"
      ]
     },
     "metadata": {},
     "output_type": "display_data"
    }
   ],
   "source": [
    "plt.pie(compañeros.Programa.value_counts(), labels=['Sitemas', 'Estadística'], autopct='%0.1f%%')\n",
    "plt.show()"
   ]
  },
  {
   "cell_type": "markdown",
   "id": "5dc48960",
   "metadata": {},
   "source": [
    "Es claro también que la proporción de estudiantes de Sistemas  es mucho mayor que la de estudiantes de Estadística. Otra pregunta natural que podríamos hacernos es si hay alguna relación entre el sexo y el programa. Veamos por ejemplo la cantidad de mujeres que estudian estadística\n"
   ]
  },
  {
   "cell_type": "code",
   "execution_count": null,
   "id": "ab7d02ce",
   "metadata": {},
   "outputs": [],
   "source": []
  }
 ],
 "metadata": {
  "kernelspec": {
   "display_name": "Python 3 (ipykernel)",
   "language": "python",
   "name": "python3"
  },
  "language_info": {
   "codemirror_mode": {
    "name": "ipython",
    "version": 3
   },
   "file_extension": ".py",
   "mimetype": "text/x-python",
   "name": "python",
   "nbconvert_exporter": "python",
   "pygments_lexer": "ipython3",
   "version": "3.9.12"
  }
 },
 "nbformat": 4,
 "nbformat_minor": 5
}
